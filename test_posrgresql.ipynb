{
 "cells": [
  {
   "cell_type": "code",
   "execution_count": 1,
   "metadata": {},
   "outputs": [
    {
     "name": "stderr",
     "output_type": "stream",
     "text": [
      "/var/folders/sw/4rpbgzwn5cbg6td087_s_zlh0000gn/T/ipykernel_28465/3012238279.py:10: TqdmExperimentalWarning: Using `tqdm.autonotebook.tqdm` in notebook mode. Use `tqdm.tqdm` instead to force console mode (e.g. in jupyter console)\n",
      "  from tqdm.autonotebook import tqdm, trange\n"
     ]
    }
   ],
   "source": [
    "import time\n",
    "import torch\n",
    "import joblib\n",
    "import psycopg2\n",
    "import numpy as np\n",
    "import pandas as pd\n",
    "from fuzzywuzzy import process\n",
    "from collections import Counter\n",
    "from scipy.sparse import csr_matrix\n",
    "from tqdm.autonotebook import tqdm, trange\n",
    "from psycopg2.extras import execute_values\n",
    "from sklearn.neighbors import NearestNeighbors\n",
    "from sentence_transformers import SentenceTransformer\n",
    "\n",
    "\n",
    "conn = psycopg2.connect(\n",
    "    dbname=\"mov_db_1\",\n",
    "    user=\"bulldogg\",\n",
    "    password=\"21101314\",\n",
    "    host=\"localhost\",\n",
    "    port=\"5433\"\n",
    ")"
   ]
  },
  {
   "cell_type": "code",
   "execution_count": 2,
   "metadata": {},
   "outputs": [],
   "source": [
    "\n",
    "conn.close()"
   ]
  },
  {
   "cell_type": "code",
   "execution_count": 2,
   "metadata": {},
   "outputs": [
    {
     "name": "stdout",
     "output_type": "stream",
     "text": [
      "Started loading data\n",
      "Completed loading data\n",
      "Total Data Loadung Time : 8.176977157592773\n"
     ]
    }
   ],
   "source": [
    "print(\"Started loading data\")\n",
    "start_load = time.time()\n",
    "Q = np.load('data/Q.npy')\n",
    "Q_b = np.load('bayesian_data/Q_b.npy')\n",
    "\n",
    "movie_mapper = joblib.load('data/movie_mapper.joblib')\n",
    "movie_inv_mapper = joblib.load('data/movie_inv_mapper.joblib')\n",
    "\n",
    "movie_mapper_b = joblib.load('bayesian_data/movie_mapper_b.joblib')\n",
    "user_inv_mapper_b = joblib.load('bayesian_data/user_inv_mapper_b.joblib')\n",
    "movie_inv_mapper_b = joblib.load('bayesian_data/movie_inv_mapper_b.joblib')\n",
    "\n",
    "titles = pd.read_csv('upgraded_movielens_latest/titles.csv')\n",
    "ratings = pd.read_csv('upgraded_movielens_latest/filtered_ratings.csv')\n",
    "tags = pd.read_csv('upgraded_movielens_latest/upgraded_movies.csv')\n",
    "end_load = time.time()\n",
    "print(\"Completed loading data\")\n",
    "print(f'Total Data Loadung Time : {end_load-start_load}')"
   ]
  },
  {
   "cell_type": "code",
   "execution_count": 3,
   "metadata": {},
   "outputs": [
    {
     "name": "stdout",
     "output_type": "stream",
     "text": [
      "(82129, 300)\n",
      "(82129, 300)\n"
     ]
    }
   ],
   "source": [
    "print(Q.shape)\n",
    "print(Q_b.shape)"
   ]
  },
  {
   "cell_type": "code",
   "execution_count": 4,
   "metadata": {},
   "outputs": [
    {
     "data": {
      "text/html": [
       "<div>\n",
       "<style scoped>\n",
       "    .dataframe tbody tr th:only-of-type {\n",
       "        vertical-align: middle;\n",
       "    }\n",
       "\n",
       "    .dataframe tbody tr th {\n",
       "        vertical-align: top;\n",
       "    }\n",
       "\n",
       "    .dataframe thead th {\n",
       "        text-align: right;\n",
       "    }\n",
       "</style>\n",
       "<table border=\"1\" class=\"dataframe\">\n",
       "  <thead>\n",
       "    <tr style=\"text-align: right;\">\n",
       "      <th></th>\n",
       "      <th>movieId</th>\n",
       "      <th>title</th>\n",
       "    </tr>\n",
       "  </thead>\n",
       "  <tbody>\n",
       "    <tr>\n",
       "      <th>0</th>\n",
       "      <td>1</td>\n",
       "      <td>Toy Story (1995)</td>\n",
       "    </tr>\n",
       "    <tr>\n",
       "      <th>1</th>\n",
       "      <td>2</td>\n",
       "      <td>Jumanji (1995)</td>\n",
       "    </tr>\n",
       "    <tr>\n",
       "      <th>2</th>\n",
       "      <td>3</td>\n",
       "      <td>Grumpier Old Men (1995)</td>\n",
       "    </tr>\n",
       "    <tr>\n",
       "      <th>3</th>\n",
       "      <td>4</td>\n",
       "      <td>Waiting to Exhale (1995)</td>\n",
       "    </tr>\n",
       "    <tr>\n",
       "      <th>4</th>\n",
       "      <td>5</td>\n",
       "      <td>Father of the Bride Part II (1995)</td>\n",
       "    </tr>\n",
       "  </tbody>\n",
       "</table>\n",
       "</div>"
      ],
      "text/plain": [
       "   movieId                               title\n",
       "0        1                    Toy Story (1995)\n",
       "1        2                      Jumanji (1995)\n",
       "2        3             Grumpier Old Men (1995)\n",
       "3        4            Waiting to Exhale (1995)\n",
       "4        5  Father of the Bride Part II (1995)"
      ]
     },
     "execution_count": 4,
     "metadata": {},
     "output_type": "execute_result"
    }
   ],
   "source": [
    "titles.head()"
   ]
  },
  {
   "cell_type": "code",
   "execution_count": 5,
   "metadata": {},
   "outputs": [
    {
     "data": {
      "text/html": [
       "<div>\n",
       "<style scoped>\n",
       "    .dataframe tbody tr th:only-of-type {\n",
       "        vertical-align: middle;\n",
       "    }\n",
       "\n",
       "    .dataframe tbody tr th {\n",
       "        vertical-align: top;\n",
       "    }\n",
       "\n",
       "    .dataframe thead th {\n",
       "        text-align: right;\n",
       "    }\n",
       "</style>\n",
       "<table border=\"1\" class=\"dataframe\">\n",
       "  <thead>\n",
       "    <tr style=\"text-align: right;\">\n",
       "      <th></th>\n",
       "      <th>movieId</th>\n",
       "      <th>tag</th>\n",
       "    </tr>\n",
       "  </thead>\n",
       "  <tbody>\n",
       "    <tr>\n",
       "      <th>0</th>\n",
       "      <td>1.0</td>\n",
       "      <td>overview: Led by Woody, Andy's toys live happi...</td>\n",
       "    </tr>\n",
       "    <tr>\n",
       "      <th>1</th>\n",
       "      <td>2.0</td>\n",
       "      <td>overview: When siblings Judy and Peter discove...</td>\n",
       "    </tr>\n",
       "    <tr>\n",
       "      <th>2</th>\n",
       "      <td>3.0</td>\n",
       "      <td>overview: A family wedding reignites the ancie...</td>\n",
       "    </tr>\n",
       "    <tr>\n",
       "      <th>3</th>\n",
       "      <td>4.0</td>\n",
       "      <td>overview: Cheated on, mistreated and stepped o...</td>\n",
       "    </tr>\n",
       "    <tr>\n",
       "      <th>4</th>\n",
       "      <td>5.0</td>\n",
       "      <td>overview: Just when George Banks has recovered...</td>\n",
       "    </tr>\n",
       "  </tbody>\n",
       "</table>\n",
       "</div>"
      ],
      "text/plain": [
       "   movieId                                                tag\n",
       "0      1.0  overview: Led by Woody, Andy's toys live happi...\n",
       "1      2.0  overview: When siblings Judy and Peter discove...\n",
       "2      3.0  overview: A family wedding reignites the ancie...\n",
       "3      4.0  overview: Cheated on, mistreated and stepped o...\n",
       "4      5.0  overview: Just when George Banks has recovered..."
      ]
     },
     "execution_count": 5,
     "metadata": {},
     "output_type": "execute_result"
    }
   ],
   "source": [
    "tags.head()"
   ]
  },
  {
   "cell_type": "code",
   "execution_count": 6,
   "metadata": {},
   "outputs": [
    {
     "name": "stdout",
     "output_type": "stream",
     "text": [
      "overview: A family wedding reignites the ancient feud between next-door neighbors and fishing buddies John and Max. Meanwhile, a sultry Italian divorcée opens a restaurant at the local bait shop, alarming the locals who worry she'll scare the fish away. But she's less interested in seafood than she is in cooking up a hot time with Max. tagline: Still Yelling. Still Fighting. Still Ready for Love. keywords: fishing sequel old man best friend wedding italian restaurant old friends duringcreditsstinger pranks casts: MaxGoldman JohnGustafson ArielGustafson MariaSophiaColettaRagetti MelanieGustafson director: HowardDeutch vote_average: 6.478 vote_count: 365 popularity: 30.376 Genres : Comedy Romance\n"
     ]
    }
   ],
   "source": [
    "movie_id = 3  # Replace with the desired movieId\n",
    "tag = tags.loc[tags['movieId'] == movie_id, 'tag'].values[0]\n",
    "print(tag)"
   ]
  },
  {
   "cell_type": "code",
   "execution_count": 7,
   "metadata": {},
   "outputs": [
    {
     "data": {
      "text/html": [
       "<div>\n",
       "<style scoped>\n",
       "    .dataframe tbody tr th:only-of-type {\n",
       "        vertical-align: middle;\n",
       "    }\n",
       "\n",
       "    .dataframe tbody tr th {\n",
       "        vertical-align: top;\n",
       "    }\n",
       "\n",
       "    .dataframe thead th {\n",
       "        text-align: right;\n",
       "    }\n",
       "</style>\n",
       "<table border=\"1\" class=\"dataframe\">\n",
       "  <thead>\n",
       "    <tr style=\"text-align: right;\">\n",
       "      <th></th>\n",
       "      <th>userId</th>\n",
       "      <th>movieId</th>\n",
       "      <th>rating</th>\n",
       "      <th>timestamp</th>\n",
       "    </tr>\n",
       "  </thead>\n",
       "  <tbody>\n",
       "    <tr>\n",
       "      <th>0</th>\n",
       "      <td>1</td>\n",
       "      <td>1</td>\n",
       "      <td>4.0</td>\n",
       "      <td>1225734739</td>\n",
       "    </tr>\n",
       "    <tr>\n",
       "      <th>1</th>\n",
       "      <td>1</td>\n",
       "      <td>110</td>\n",
       "      <td>4.0</td>\n",
       "      <td>1225865086</td>\n",
       "    </tr>\n",
       "    <tr>\n",
       "      <th>2</th>\n",
       "      <td>1</td>\n",
       "      <td>158</td>\n",
       "      <td>4.0</td>\n",
       "      <td>1225733503</td>\n",
       "    </tr>\n",
       "    <tr>\n",
       "      <th>3</th>\n",
       "      <td>1</td>\n",
       "      <td>260</td>\n",
       "      <td>4.5</td>\n",
       "      <td>1225735204</td>\n",
       "    </tr>\n",
       "    <tr>\n",
       "      <th>4</th>\n",
       "      <td>1</td>\n",
       "      <td>356</td>\n",
       "      <td>5.0</td>\n",
       "      <td>1225735119</td>\n",
       "    </tr>\n",
       "  </tbody>\n",
       "</table>\n",
       "</div>"
      ],
      "text/plain": [
       "   userId  movieId  rating   timestamp\n",
       "0       1        1     4.0  1225734739\n",
       "1       1      110     4.0  1225865086\n",
       "2       1      158     4.0  1225733503\n",
       "3       1      260     4.5  1225735204\n",
       "4       1      356     5.0  1225735119"
      ]
     },
     "execution_count": 7,
     "metadata": {},
     "output_type": "execute_result"
    }
   ],
   "source": [
    "ratings.head()"
   ]
  },
  {
   "cell_type": "code",
   "execution_count": 8,
   "metadata": {},
   "outputs": [
    {
     "name": "stdout",
     "output_type": "stream",
     "text": [
      "82129\n"
     ]
    }
   ],
   "source": [
    "unique_movie_ids_rat = ratings['movieId'].unique().tolist()\n",
    "print(len(unique_movie_ids_rat))"
   ]
  },
  {
   "cell_type": "code",
   "execution_count": 9,
   "metadata": {},
   "outputs": [
    {
     "name": "stdout",
     "output_type": "stream",
     "text": [
      "85407\n"
     ]
    }
   ],
   "source": [
    "unique_movie_ids_tag = tags['movieId'].unique().tolist()\n",
    "print(len(unique_movie_ids_tag))"
   ]
  },
  {
   "cell_type": "code",
   "execution_count": 10,
   "metadata": {},
   "outputs": [
    {
     "name": "stdout",
     "output_type": "stream",
     "text": [
      "82129\n"
     ]
    }
   ],
   "source": [
    "unique_movie_ids_rat = ratings['movieId'].unique()\n",
    "\n",
    "tags_filtered = tags[tags['movieId'].isin(unique_movie_ids_rat)]\n",
    "\n",
    "tags = tags_filtered\n",
    "\n",
    "print(len(tags))"
   ]
  },
  {
   "cell_type": "code",
   "execution_count": 11,
   "metadata": {},
   "outputs": [
    {
     "name": "stdout",
     "output_type": "stream",
     "text": [
      "Using MPS device\n"
     ]
    }
   ],
   "source": [
    "if torch.backends.mps.is_available():\n",
    "    device = torch.device(\"mps\")\n",
    "    print(\"Using MPS device\")\n",
    "else:\n",
    "    device = torch.device(\"cpu\")\n",
    "    print(\"MPS device not found, using CPU\")\n",
    "\n",
    "model = SentenceTransformer('all-mpnet-base-v2')\n",
    "model = model.to(device)\n"
   ]
  },
  {
   "cell_type": "code",
   "execution_count": 12,
   "metadata": {},
   "outputs": [],
   "source": [
    "sentences = \"This is an example sentence\"\n",
    "\n",
    "with torch.no_grad():\n",
    "    embeddings = model.encode(sentences, convert_to_tensor=True)\n",
    "    embeddings = embeddings.cpu().numpy() "
   ]
  },
  {
   "cell_type": "code",
   "execution_count": 13,
   "metadata": {},
   "outputs": [
    {
     "name": "stdout",
     "output_type": "stream",
     "text": [
      "(768,)\n",
      "<class 'numpy.ndarray'>\n"
     ]
    }
   ],
   "source": [
    "print(embeddings.shape)\n",
    "print(type(embeddings))"
   ]
  },
  {
   "cell_type": "code",
   "execution_count": 14,
   "metadata": {},
   "outputs": [],
   "source": [
    "def id_to_all(id):\n",
    "    movie_indices = movie_mapper[id]\n",
    "    usr_vec = Q_b[movie_indices]\n",
    "    title = titles.loc[titles['movieId'] == id, 'title'].values[0]\n",
    "    tag = tags.loc[tags['movieId'] == id, 'tag'].values[0]\n",
    "    with torch.no_grad():\n",
    "        embeddings = model.encode(tag, convert_to_tensor=True)\n",
    "        embeddings = embeddings.cpu().numpy()\n",
    "    return movie_indices, usr_vec, title, tag, embeddings"
   ]
  },
  {
   "cell_type": "code",
   "execution_count": 15,
   "metadata": {},
   "outputs": [],
   "source": [
    "# cur = conn.cursor()\n",
    "\n",
    "# cur.execute(\"\"\"\n",
    "# CREATE TABLE IF NOT EXISTS movies (\n",
    "#     movieId INTEGER PRIMARY KEY,\n",
    "#     movie_indices INTEGER,\n",
    "#     usr_vec VECTOR(300),\n",
    "#     title TEXT,\n",
    "#     tag TEXT,\n",
    "#     embeddings VECTOR(768)\n",
    "# );\n",
    "# \"\"\")"
   ]
  },
  {
   "cell_type": "code",
   "execution_count": 16,
   "metadata": {},
   "outputs": [],
   "source": [
    "cur = conn.cursor()\n",
    "\n",
    "insert_query = \"\"\"\n",
    "INSERT INTO movies (movieId, movie_indices, usr_vec, title, tag, embeddings)\n",
    "VALUES (%s, %s, %s, %s, %s, %s)\n",
    "ON CONFLICT (movieId) DO UPDATE SET\n",
    "    movie_indices = EXCLUDED.movie_indices,\n",
    "    usr_vec = EXCLUDED.usr_vec,\n",
    "    title = EXCLUDED.title,\n",
    "    tag = EXCLUDED.tag,\n",
    "    embeddings = EXCLUDED.embeddings\n",
    "\"\"\"\n",
    "\n",
    "cur.execute(\"\"\"\n",
    "CREATE TABLE IF NOT EXISTS movies (\n",
    "    movieId INTEGER PRIMARY KEY,\n",
    "    movie_indices INTEGER,\n",
    "    usr_vec VECTOR(300),\n",
    "    title TEXT,\n",
    "    tag TEXT,\n",
    "    embeddings VECTOR(768)\n",
    ");\n",
    "\"\"\")\n",
    "    "
   ]
  },
  {
   "cell_type": "code",
   "execution_count": null,
   "metadata": {},
   "outputs": [],
   "source": []
  },
  {
   "cell_type": "code",
   "execution_count": 17,
   "metadata": {},
   "outputs": [
    {
     "data": {
      "application/vnd.jupyter.widget-view+json": {
       "model_id": "90ca878de9004aeaaa242df4c3e0044f",
       "version_major": 2,
       "version_minor": 0
      },
      "text/plain": [
       "  0%|          | 0/82129 [00:00<?, ?it/s]"
      ]
     },
     "metadata": {},
     "output_type": "display_data"
    },
    {
     "name": "stdout",
     "output_type": "stream",
     "text": [
      "Data insertion completed.\n"
     ]
    }
   ],
   "source": [
    "for i in tqdm(unique_movie_ids_rat):\n",
    "    movie_indices, usr_vec, title, tag, embeddings = id_to_all(i)\n",
    "    movie_id = int(i) if isinstance(i, np.integer) else i\n",
    "    movie_indices = int(movie_indices) if isinstance(movie_indices, np.integer) else movie_indices\n",
    "    usr_vec_str = ','.join(map(str, usr_vec))\n",
    "    embeddings_str = ','.join(map(str, embeddings))\n",
    "    usr_vec_str = \"[\"+usr_vec_str+\"]\"\n",
    "    embeddings_str = \"[\"+embeddings_str+\"]\"\n",
    "\n",
    "    try:\n",
    "        cur.execute(insert_query, (movie_id, movie_indices, usr_vec_str, title, tag, embeddings_str))\n",
    "        conn.commit()\n",
    "    except Exception as e:\n",
    "        print(f\"Error inserting movie_id {movie_id}: {str(e)}\")\n",
    "        conn.rollback()\n",
    "        \n",
    "cur.close()\n",
    "conn.close()\n",
    "\n",
    "print(\"Data insertion completed.\")"
   ]
  },
  {
   "cell_type": "code",
   "execution_count": 30,
   "metadata": {},
   "outputs": [],
   "source": [
    "conn = psycopg2.connect(\n",
    "    dbname=\"mov_db_1\",\n",
    "    user=\"bulldogg\",\n",
    "    password=\"21101314\",\n",
    "    host=\"localhost\",\n",
    "    port=\"5433\"\n",
    ")\n",
    "cur = conn.cursor()\n",
    "cur.execute(\"\"\"\n",
    "CREATE INDEX ON movies USING ivfflat (embeddings vector_cosine_ops);\n",
    "\"\"\")\n",
    "\n",
    "cur.execute(\"\"\"\n",
    "CREATE INDEX ON movies USING ivfflat (usr_vec vector_cosine_ops);\n",
    "\"\"\")"
   ]
  },
  {
   "cell_type": "code",
   "execution_count": 82,
   "metadata": {},
   "outputs": [
    {
     "name": "stdout",
     "output_type": "stream",
     "text": [
      "(3114, 'Toy Story 2 (1999)', 0.0)\n",
      "(78499, 'Toy Story 3 (2010)', 0.26176473617419777)\n",
      "(201588, 'Toy Story 4 (2019)', 0.5059667623297233)\n",
      "(115875, 'Toy Story Toons: Hawaiian Vacation (2011)', 0.7457663329631926)\n",
      "(120474, 'Toy Story That Time Forgot (2014)', 0.836783951341208)\n",
      "(115879, 'Toy Story Toons: Small Fry (2011)', 0.857455786289913)\n",
      "(282863, 'Minions & More 1 (2022)', 0.8671423388345981)\n",
      "(119456, \"Bugs Bunny's Looney Christmas Tales (1979)\", 0.8903141083469309)\n",
      "(131130, 'Tom and Jerry: A Nutcracker Tale (2007)', 0.8937138841641549)\n",
      "(263819, 'My Friends Tigger & Pooh: Friendly Tails (2008)', 0.9001606804175745)\n",
      "(208112, 'Rudolph the Red-Nosed Reindeer & the Island of Misfit Toys (2001)', 0.9108474576456742)\n",
      "(5765, 'Looney, Looney, Looney Bugs Bunny Movie, The (1981)', 0.9108618724743925)\n",
      "(278688, \"Yogi Bear's All-Star Comedy Christmas Caper (1982)\", 0.9208856067579309)\n",
      "(176299, 'Tom and Jerry: Willy Wonka and the Chocolate Factory (2017)', 0.9546905332414606)\n",
      "(198331, \"Buddy's Day Out (1933)\", 0.9767952288639773)\n",
      "(282865, 'Minions & More Volume 2 (2022)', 0.9807457035208071)\n",
      "(274197, 'Lightyear (2022)', 0.9868739767541458)\n",
      "(189783, 'Christopher Robin (2018)', 0.9878840034516535)\n",
      "(233511, 'Illumination Presents: Minions Holiday Special (2020)', 0.9887196158400323)\n",
      "(281738, 'Mickey Saves Christmas (2022)', 1.0)\n"
     ]
    }
   ],
   "source": [
    "def get_content_based_recommendation(movie_id, k):\n",
    "    embeddings_query = \"SELECT embeddings FROM movies WHERE movieId = %s;\"\n",
    "    cur.execute(embeddings_query, (movie_id,))\n",
    "    result = cur.fetchone()\n",
    "\n",
    "    if result:\n",
    "        embedding = result[0]\n",
    "    else:\n",
    "        print(f\"No embedding found for movieId {movie_id}\")\n",
    "\n",
    "    knn_query = \"\"\"\n",
    "    SELECT movieId, title, embeddings <-> %s::vector AS distance\n",
    "    FROM movies\n",
    "    WHERE movieId != %s  -- Exclude the query movie itself\n",
    "    ORDER BY embeddings <-> %s::vector\n",
    "    LIMIT %s;\n",
    "    \"\"\"\n",
    "\n",
    "    cur.execute(knn_query, (embedding, movie_id, embedding, k))\n",
    "    results = cur.fetchall()\n",
    "    return results\n",
    "\n",
    "\n",
    "def get_collaborative_recommendation(movie_id, k):\n",
    "    usr_vec_query = \"SELECT usr_vec, title FROM movies WHERE movieId = %s;\"\n",
    "    cur.execute(usr_vec_query, (movie_id,))\n",
    "    result = cur.fetchone()\n",
    "    title = result[1]\n",
    "    if result:\n",
    "        usr_vec = result[0]\n",
    "    else:\n",
    "        print(f\"No usr_vec found for movieId {movie_id}\")\n",
    "\n",
    "    query = \"\"\"\n",
    "    SELECT movieId, title, usr_vec <-> %s::vector AS distance\n",
    "    FROM movies\n",
    "    WHERE movieId != %s  -- Exclude the query movie itself\n",
    "    ORDER BY usr_vec <-> %s::vector\n",
    "    LIMIT %s;\n",
    "    \"\"\"\n",
    "\n",
    "    cur.execute(query, (usr_vec, movie_id, usr_vec, k))\n",
    "    results = cur.fetchall()\n",
    "    return results, title\n",
    "\n",
    "def min_max_normalize(distances):\n",
    "    min_dist = min(distances)\n",
    "    max_dist = max(distances)\n",
    "    if min_dist == max_dist:\n",
    "        return [1.0 for _ in distances]  # All distances are the same\n",
    "    return [(d - min_dist) / (max_dist - min_dist) for d in distances]\n",
    "\n",
    "def merge_recommendations(content_recs, collab_recs, k):\n",
    "    content_distances = [rec[2] for rec in content_recs]\n",
    "    collab_distances = [rec[2] for rec in collab_recs]\n",
    "    \n",
    "    norm_content_distances = min_max_normalize(content_distances)\n",
    "    norm_collab_distances = min_max_normalize(collab_distances)\n",
    "    \n",
    "    content_recs_norm = [(rec[0], rec[1], norm_dist) for rec, norm_dist in zip(content_recs, norm_content_distances)]\n",
    "    collab_recs_norm = [(rec[0], rec[1], norm_dist) for rec, norm_dist in zip(collab_recs, norm_collab_distances)]\n",
    "    for i in content_recs_norm:\n",
    "        print(i)\n",
    "    rec_dict = {}\n",
    "    for rec in content_recs_norm + collab_recs_norm:\n",
    "        movie_id, title, distance = rec\n",
    "        if movie_id in rec_dict:\n",
    "            rec_dict[movie_id]['distance_sum'] += distance\n",
    "            rec_dict[movie_id]['count'] += 1\n",
    "            if rec in content_recs_norm:\n",
    "                rec_dict[movie_id]['content_distance'] = distance\n",
    "            if rec in collab_recs_norm:\n",
    "                rec_dict[movie_id]['collaborative_distance'] = distance\n",
    "        else:\n",
    "            rec_dict[movie_id] = {\n",
    "                'title': title, \n",
    "                'distance_sum': distance, \n",
    "                'count': 1,\n",
    "                'content_distance': distance if rec in content_recs_norm else None,\n",
    "                'collaborative_distance': distance if rec in collab_recs_norm else None\n",
    "            }\n",
    "\n",
    "    merged_recs = []\n",
    "    for movie_id, data in rec_dict.items():\n",
    "        avg_distance = data['distance_sum'] / data['count']\n",
    "        merged_recs.append({\n",
    "            'movie_id': movie_id,\n",
    "            'title': data['title'],\n",
    "            'avg_distance': avg_distance,\n",
    "            'count': data['count'],\n",
    "            'content_distance': data['content_distance'],\n",
    "            'collaborative_distance': data['collaborative_distance']\n",
    "        })\n",
    "    merged_recs.sort(key=lambda x: (-x['count'], x['avg_distance']))\n",
    "\n",
    "    return merged_recs[:k]\n",
    "\n",
    "def get_hybrid_recommendations(id, k):\n",
    "    content_recs = get_content_based_recommendation(movie_id=id, k=k)\n",
    "    collab_recs, title = get_collaborative_recommendation(movie_id=id, k=k)\n",
    "    merged_recs = merge_recommendations(content_recs, collab_recs, k)\n",
    "    return merged_recs, title\n",
    "\n",
    "recs, title = get_hybrid_recommendations(1, 20)\n"
   ]
  },
  {
   "cell_type": "code",
   "execution_count": 83,
   "metadata": {},
   "outputs": [
    {
     "name": "stdout",
     "output_type": "stream",
     "text": [
      "Because you watched Toy Story (1995)\n",
      "Recommendation 1 ==> {'movie_id': 3114, 'title': 'Toy Story 2 (1999)', 'avg_distance': 0.052727205255106796, 'count': 2, 'content_distance': 0.0, 'collaborative_distance': 0.10545441051021359}\n",
      "Recommendation 2 ==> {'movie_id': 78499, 'title': 'Toy Story 3 (2010)', 'avg_distance': 0.5926946700664113, 'count': 2, 'content_distance': 0.26176473617419777, 'collaborative_distance': 0.9236246039586248}\n",
      "Recommendation 3 ==> {'movie_id': 736, 'title': 'Twister (1996)', 'avg_distance': 0.0, 'count': 1, 'content_distance': None, 'collaborative_distance': 0.0}\n",
      "Recommendation 4 ==> {'movie_id': 780, 'title': 'Independence Day (a.k.a. ID4) (1996)', 'avg_distance': 0.17601200134544315, 'count': 1, 'content_distance': None, 'collaborative_distance': 0.17601200134544315}\n",
      "Recommendation 5 ==> {'movie_id': 648, 'title': 'Mission: Impossible (1996)', 'avg_distance': 0.38699681117745244, 'count': 1, 'content_distance': None, 'collaborative_distance': 0.38699681117745244}\n",
      "Recommendation 6 ==> {'movie_id': 201588, 'title': 'Toy Story 4 (2019)', 'avg_distance': 0.5059667623297233, 'count': 1, 'content_distance': 0.5059667623297233, 'collaborative_distance': None}\n",
      "Recommendation 7 ==> {'movie_id': 367, 'title': 'Mask, The (1994)', 'avg_distance': 0.5565632938245344, 'count': 1, 'content_distance': None, 'collaborative_distance': 0.5565632938245344}\n",
      "Recommendation 8 ==> {'movie_id': 788, 'title': 'Nutty Professor, The (1996)', 'avg_distance': 0.6364346205872957, 'count': 1, 'content_distance': None, 'collaborative_distance': 0.6364346205872957}\n",
      "Recommendation 9 ==> {'movie_id': 1073, 'title': 'Willy Wonka & the Chocolate Factory (1971)', 'avg_distance': 0.6525354713661354, 'count': 1, 'content_distance': None, 'collaborative_distance': 0.6525354713661354}\n",
      "Recommendation 10 ==> {'movie_id': 8360, 'title': 'Shrek 2 (2004)', 'avg_distance': 0.6720521658394325, 'count': 1, 'content_distance': None, 'collaborative_distance': 0.6720521658394325}\n",
      "Recommendation 11 ==> {'movie_id': 2355, 'title': \"Bug's Life, A (1998)\", 'avg_distance': 0.6804415819229096, 'count': 1, 'content_distance': None, 'collaborative_distance': 0.6804415819229096}\n",
      "Recommendation 12 ==> {'movie_id': 115875, 'title': 'Toy Story Toons: Hawaiian Vacation (2011)', 'avg_distance': 0.7457663329631926, 'count': 1, 'content_distance': 0.7457663329631926, 'collaborative_distance': None}\n",
      "Recommendation 13 ==> {'movie_id': 2628, 'title': 'Star Wars: Episode I - The Phantom Menace (1999)', 'avg_distance': 0.7533888337157855, 'count': 1, 'content_distance': None, 'collaborative_distance': 0.7533888337157855}\n",
      "Recommendation 14 ==> {'movie_id': 586, 'title': 'Home Alone (1990)', 'avg_distance': 0.8297340821800464, 'count': 1, 'content_distance': None, 'collaborative_distance': 0.8297340821800464}\n",
      "Recommendation 15 ==> {'movie_id': 120474, 'title': 'Toy Story That Time Forgot (2014)', 'avg_distance': 0.836783951341208, 'count': 1, 'content_distance': 0.836783951341208, 'collaborative_distance': None}\n",
      "Recommendation 16 ==> {'movie_id': 115879, 'title': 'Toy Story Toons: Small Fry (2011)', 'avg_distance': 0.857455786289913, 'count': 1, 'content_distance': 0.857455786289913, 'collaborative_distance': None}\n",
      "Recommendation 17 ==> {'movie_id': 282863, 'title': 'Minions & More 1 (2022)', 'avg_distance': 0.8671423388345981, 'count': 1, 'content_distance': 0.8671423388345981, 'collaborative_distance': None}\n",
      "Recommendation 18 ==> {'movie_id': 2, 'title': 'Jumanji (1995)', 'avg_distance': 0.8783143479178933, 'count': 1, 'content_distance': None, 'collaborative_distance': 0.8783143479178933}\n",
      "Recommendation 19 ==> {'movie_id': 95, 'title': 'Broken Arrow (1996)', 'avg_distance': 0.885013006260718, 'count': 1, 'content_distance': None, 'collaborative_distance': 0.885013006260718}\n",
      "Recommendation 20 ==> {'movie_id': 119456, 'title': \"Bugs Bunny's Looney Christmas Tales (1979)\", 'avg_distance': 0.8903141083469309, 'count': 1, 'content_distance': 0.8903141083469309, 'collaborative_distance': None}\n"
     ]
    }
   ],
   "source": [
    "print(f\"Because you watched {title}\")\n",
    "for i, recs in enumerate(recs):\n",
    "    print(f\"Recommendation {i+1} ==> {recs}\")"
   ]
  },
  {
   "cell_type": "code",
   "execution_count": null,
   "metadata": {},
   "outputs": [],
   "source": [
    "\n",
    "# def merge_recommendations(content_recs, collab_recs, k):\n",
    "#     combined_recs = content_recs + collab_recs\n",
    "#     counts = Counter([rec[0] for rec in combined_recs])\n",
    "#     rec_dict = {}\n",
    "#     for rec in combined_recs:\n",
    "#         movie_id, title, distance = rec\n",
    "#         if movie_id in rec_dict:\n",
    "#             rec_dict[movie_id]['distance_sum'] += distance\n",
    "#             rec_dict[movie_id]['count'] += 1\n",
    "#             if 'content_distance' in rec_dict[movie_id]:\n",
    "#                 rec_dict[movie_id]['collaborative_distance'] = distance\n",
    "#             else:\n",
    "#                 rec_dict[movie_id]['content_distance'] = distance\n",
    "#         else:\n",
    "#             rec_dict[movie_id] = {\n",
    "#                 'title': title, \n",
    "#                 'distance_sum': distance, \n",
    "#                 'count': 1,\n",
    "#                 'content_distance': distance if rec in content_recs else None,\n",
    "#                 'collaborative_distance': distance if rec in collab_recs else None\n",
    "#             }\n",
    "\n",
    "#     merged_recs = []\n",
    "#     for movie_id, data in rec_dict.items():\n",
    "#         avg_distance = data['distance_sum'] / data['count']\n",
    "#         merged_recs.append({\n",
    "#             'movie_id': movie_id,\n",
    "#             'title': data['title'],\n",
    "#             'avg_distance': avg_distance,\n",
    "#             'count': data['count'],\n",
    "#             'content_distance': data['content_distance'],\n",
    "#             'collaborative_distance': data['collaborative_distance']\n",
    "#         })\n",
    "#     merged_recs.sort(key=lambda x: (-x['count'], x['avg_distance']))\n",
    "\n",
    "#     return merged_recs"
   ]
  },
  {
   "cell_type": "code",
   "execution_count": null,
   "metadata": {},
   "outputs": [],
   "source": [
    "# cur = conn.cursor()\n",
    "\n",
    "# cur.execute(\"\"\"\n",
    "# CREATE TABLE IF NOT EXISTS movies (\n",
    "#     movieId INTEGER PRIMARY KEY,\n",
    "#     movie_indices INTEGER,\n",
    "#     usr_vec VECTOR(300),\n",
    "#     title TEXT,\n",
    "#     tag TEXT,\n",
    "#     embeddings VECTOR(768)\n",
    "# );\n",
    "# \"\"\")\n",
    "\n",
    "# cur.execute(\"\"\"\n",
    "# INSERT INTO items (embedding) VALUES \n",
    "#     ('[0.02, 0.02, 0.03]'),\n",
    "#     ('[0.06, 0.05, 0.06]'),\n",
    "#     ('[0.08, 0.08, 0.09]');\n",
    "# \"\"\")\n",
    "\n",
    "# conn.commit()\n",
    "\n",
    "# cur.execute(\"SELECT * FROM items;\")\n",
    "# rows = cur.fetchall()\n",
    "\n",
    "# for row in rows:\n",
    "#     print(f\"ID: {row[0]}, Embedding: {row[1]}\")\n",
    "\n",
    "# cur.execute(\"DROP TABLE IF EXISTS items;\")\n",
    "\n",
    "# cur.close()\n",
    "# conn.close()"
   ]
  }
 ],
 "metadata": {
  "kernelspec": {
   "display_name": "mov",
   "language": "python",
   "name": "python3"
  },
  "language_info": {
   "codemirror_mode": {
    "name": "ipython",
    "version": 3
   },
   "file_extension": ".py",
   "mimetype": "text/x-python",
   "name": "python",
   "nbconvert_exporter": "python",
   "pygments_lexer": "ipython3",
   "version": "3.8.19"
  }
 },
 "nbformat": 4,
 "nbformat_minor": 2
}
