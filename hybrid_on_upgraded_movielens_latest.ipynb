{
 "cells": [
  {
   "cell_type": "code",
   "execution_count": 34,
   "metadata": {},
   "outputs": [],
   "source": [
    "import os\n",
    "import time\n",
    "import requests\n",
    "import numpy as np\n",
    "import pyarrow as pa\n",
    "import pandas as pd\n",
    "import seaborn as sns\n",
    "from tqdm import tqdm\n",
    "from fuzzywuzzy import process\n",
    "import matplotlib.pyplot as plt\n",
    "from collections import Counter\n",
    "from scipy.sparse import csr_matrix\n",
    "from sklearn.neighbors import NearestNeighbors\n",
    "from sklearn.decomposition import TruncatedSVD\n",
    "from sklearn.metrics.pairwise import cosine_similarity\n",
    "from concurrent.futures import ThreadPoolExecutor, as_completed\n",
    "from sklearn.feature_extraction.text import CountVectorizer\n"
   ]
  },
  {
   "cell_type": "code",
   "execution_count": 35,
   "metadata": {},
   "outputs": [],
   "source": [
    "ratings = pd.read_csv('upgraded_movielens_latest/filtered_ratings.csv', engine='pyarrow')\n",
    "movies = pd.read_csv('upgraded_movielens_latest/upgraded_movies.csv', engine='pyarrow')\n",
    "movies_w_title = pd.read_csv('movielens_latest/movies.csv', engine='pyarrow')"
   ]
  },
  {
   "cell_type": "code",
   "execution_count": 36,
   "metadata": {},
   "outputs": [],
   "source": [
    "movies_w_title = movies_w_title.drop(columns=['genres'])\n",
    "valid_movie_ids = set(movies['movieId'])\n",
    "titles = movies_w_title[movies_w_title['movieId'].isin(valid_movie_ids)]\n",
    "movies['movieId'] = movies['movieId'].astype(int)"
   ]
  },
  {
   "cell_type": "code",
   "execution_count": 37,
   "metadata": {},
   "outputs": [
    {
     "name": "stdout",
     "output_type": "stream",
     "text": [
      "Movies 'movieId' dtype: int64\n",
      "Ratings 'movieId' dtype: int64\n",
      "Titles 'movieId' dtype: int64\n"
     ]
    }
   ],
   "source": [
    "print(\"Movies 'movieId' dtype:\", movies['movieId'].dtype)\n",
    "print(\"Ratings 'movieId' dtype:\", ratings['movieId'].dtype)\n",
    "print(\"Titles 'movieId' dtype:\", titles['movieId'].dtype)"
   ]
  },
  {
   "cell_type": "code",
   "execution_count": 38,
   "metadata": {},
   "outputs": [],
   "source": [
    "movies = movies.sort_values('movieId', ascending=True)\n",
    "titles = titles.sort_values('movieId', ascending=True)"
   ]
  },
  {
   "cell_type": "code",
   "execution_count": 39,
   "metadata": {},
   "outputs": [
    {
     "name": "stdout",
     "output_type": "stream",
     "text": [
      "Number of ratings: 33752010\n",
      "Number of unique movieId's: 82129\n",
      "Number of unique users: 330953\n",
      "Average number of ratings per user: 101.98\n",
      "Average number of ratings per movie: 410.96\n"
     ]
    }
   ],
   "source": [
    "n_ratings = len(ratings)\n",
    "n_movies = ratings['movieId'].nunique()\n",
    "n_users = ratings['userId'].nunique()\n",
    "\n",
    "print(f\"Number of ratings: {n_ratings}\")\n",
    "print(f\"Number of unique movieId's: {n_movies}\")\n",
    "print(f\"Number of unique users: {n_users}\")\n",
    "print(f\"Average number of ratings per user: {round(n_ratings/n_users, 2)}\")\n",
    "print(f\"Average number of ratings per movie: {round(n_ratings/n_movies, 2)}\")"
   ]
  },
  {
   "cell_type": "code",
   "execution_count": 40,
   "metadata": {},
   "outputs": [
    {
     "name": "stdout",
     "output_type": "stream",
     "text": [
      "Mean global rating: 3.542.\n",
      "Mean rating per user: 3.7.\n"
     ]
    }
   ],
   "source": [
    "print(f\"Mean global rating: {round(ratings['rating'].mean(),3)}.\")\n",
    "\n",
    "mean_ratings = ratings.groupby('userId')['rating'].mean()\n",
    "print(f\"Mean rating per user: {round(mean_ratings.mean(),2)}.\")"
   ]
  },
  {
   "cell_type": "code",
   "execution_count": 41,
   "metadata": {},
   "outputs": [
    {
     "data": {
      "text/html": [
       "<div>\n",
       "<style scoped>\n",
       "    .dataframe tbody tr th:only-of-type {\n",
       "        vertical-align: middle;\n",
       "    }\n",
       "\n",
       "    .dataframe tbody tr th {\n",
       "        vertical-align: top;\n",
       "    }\n",
       "\n",
       "    .dataframe thead th {\n",
       "        text-align: right;\n",
       "    }\n",
       "</style>\n",
       "<table border=\"1\" class=\"dataframe\">\n",
       "  <thead>\n",
       "    <tr style=\"text-align: right;\">\n",
       "      <th></th>\n",
       "      <th>movieId</th>\n",
       "      <th>tag</th>\n",
       "    </tr>\n",
       "  </thead>\n",
       "  <tbody>\n",
       "    <tr>\n",
       "      <th>5669</th>\n",
       "      <td>5805</td>\n",
       "      <td>overview: A 21st century sorceress (Hardman) a...</td>\n",
       "    </tr>\n",
       "  </tbody>\n",
       "</table>\n",
       "</div>"
      ],
      "text/plain": [
       "      movieId                                                tag\n",
       "5669     5805  overview: A 21st century sorceress (Hardman) a..."
      ]
     },
     "execution_count": 41,
     "metadata": {},
     "output_type": "execute_result"
    }
   ],
   "source": [
    "mean_ratings = ratings.groupby('movieId')[['rating']].mean()\n",
    "lowest_rated = mean_ratings['rating'].idxmin()\n",
    "movies[movies['movieId']==lowest_rated]\n",
    "# print()"
   ]
  },
  {
   "cell_type": "code",
   "execution_count": 42,
   "metadata": {},
   "outputs": [
    {
     "data": {
      "text/html": [
       "<div>\n",
       "<style scoped>\n",
       "    .dataframe tbody tr th:only-of-type {\n",
       "        vertical-align: middle;\n",
       "    }\n",
       "\n",
       "    .dataframe tbody tr th {\n",
       "        vertical-align: top;\n",
       "    }\n",
       "\n",
       "    .dataframe thead th {\n",
       "        text-align: right;\n",
       "    }\n",
       "</style>\n",
       "<table border=\"1\" class=\"dataframe\">\n",
       "  <thead>\n",
       "    <tr style=\"text-align: right;\">\n",
       "      <th></th>\n",
       "      <th>movieId</th>\n",
       "      <th>title</th>\n",
       "    </tr>\n",
       "  </thead>\n",
       "  <tbody>\n",
       "    <tr>\n",
       "      <th>5694</th>\n",
       "      <td>5805</td>\n",
       "      <td>Besotted (2001)</td>\n",
       "    </tr>\n",
       "  </tbody>\n",
       "</table>\n",
       "</div>"
      ],
      "text/plain": [
       "      movieId            title\n",
       "5694     5805  Besotted (2001)"
      ]
     },
     "execution_count": 42,
     "metadata": {},
     "output_type": "execute_result"
    }
   ],
   "source": [
    "titles[titles['movieId'] == lowest_rated]"
   ]
  },
  {
   "cell_type": "code",
   "execution_count": 43,
   "metadata": {},
   "outputs": [
    {
     "name": "stdout",
     "output_type": "stream",
     "text": [
      "31945\n"
     ]
    },
    {
     "data": {
      "text/html": [
       "<div>\n",
       "<style scoped>\n",
       "    .dataframe tbody tr th:only-of-type {\n",
       "        vertical-align: middle;\n",
       "    }\n",
       "\n",
       "    .dataframe tbody tr th {\n",
       "        vertical-align: top;\n",
       "    }\n",
       "\n",
       "    .dataframe thead th {\n",
       "        text-align: right;\n",
       "    }\n",
       "</style>\n",
       "<table border=\"1\" class=\"dataframe\">\n",
       "  <thead>\n",
       "    <tr style=\"text-align: right;\">\n",
       "      <th></th>\n",
       "      <th>movieId</th>\n",
       "      <th>tag</th>\n",
       "    </tr>\n",
       "  </thead>\n",
       "  <tbody>\n",
       "    <tr>\n",
       "      <th>9603</th>\n",
       "      <td>31945</td>\n",
       "      <td>overview: Nina Davenport's journey through her...</td>\n",
       "    </tr>\n",
       "  </tbody>\n",
       "</table>\n",
       "</div>"
      ],
      "text/plain": [
       "      movieId                                                tag\n",
       "9603    31945  overview: Nina Davenport's journey through her..."
      ]
     },
     "execution_count": 43,
     "metadata": {},
     "output_type": "execute_result"
    }
   ],
   "source": [
    "highest_rated = mean_ratings['rating'].idxmax()\n",
    "print(highest_rated)\n",
    "movies[movies['movieId'] == highest_rated]"
   ]
  },
  {
   "cell_type": "code",
   "execution_count": 44,
   "metadata": {},
   "outputs": [
    {
     "data": {
      "text/html": [
       "<div>\n",
       "<style scoped>\n",
       "    .dataframe tbody tr th:only-of-type {\n",
       "        vertical-align: middle;\n",
       "    }\n",
       "\n",
       "    .dataframe tbody tr th {\n",
       "        vertical-align: top;\n",
       "    }\n",
       "\n",
       "    .dataframe thead th {\n",
       "        text-align: right;\n",
       "    }\n",
       "</style>\n",
       "<table border=\"1\" class=\"dataframe\">\n",
       "  <thead>\n",
       "    <tr style=\"text-align: right;\">\n",
       "      <th></th>\n",
       "      <th>movieId</th>\n",
       "      <th>title</th>\n",
       "    </tr>\n",
       "  </thead>\n",
       "  <tbody>\n",
       "    <tr>\n",
       "      <th>9644</th>\n",
       "      <td>31945</td>\n",
       "      <td>Always a Bridesmaid (2000)</td>\n",
       "    </tr>\n",
       "  </tbody>\n",
       "</table>\n",
       "</div>"
      ],
      "text/plain": [
       "      movieId                       title\n",
       "9644    31945  Always a Bridesmaid (2000)"
      ]
     },
     "execution_count": 44,
     "metadata": {},
     "output_type": "execute_result"
    }
   ],
   "source": [
    "titles[titles['movieId'] == highest_rated]"
   ]
  },
  {
   "cell_type": "code",
   "execution_count": 45,
   "metadata": {},
   "outputs": [
    {
     "data": {
      "text/html": [
       "<div>\n",
       "<style scoped>\n",
       "    .dataframe tbody tr th:only-of-type {\n",
       "        vertical-align: middle;\n",
       "    }\n",
       "\n",
       "    .dataframe tbody tr th {\n",
       "        vertical-align: top;\n",
       "    }\n",
       "\n",
       "    .dataframe thead th {\n",
       "        text-align: right;\n",
       "    }\n",
       "</style>\n",
       "<table border=\"1\" class=\"dataframe\">\n",
       "  <thead>\n",
       "    <tr style=\"text-align: right;\">\n",
       "      <th></th>\n",
       "      <th>userId</th>\n",
       "      <th>movieId</th>\n",
       "      <th>rating</th>\n",
       "      <th>timestamp</th>\n",
       "    </tr>\n",
       "  </thead>\n",
       "  <tbody>\n",
       "    <tr>\n",
       "      <th>12408634</th>\n",
       "      <td>122184</td>\n",
       "      <td>31945</td>\n",
       "      <td>5.0</td>\n",
       "      <td>1553102189</td>\n",
       "    </tr>\n",
       "  </tbody>\n",
       "</table>\n",
       "</div>"
      ],
      "text/plain": [
       "          userId  movieId  rating   timestamp\n",
       "12408634  122184    31945     5.0  1553102189"
      ]
     },
     "execution_count": 45,
     "metadata": {},
     "output_type": "execute_result"
    }
   ],
   "source": [
    "ratings[ratings['movieId']==highest_rated]"
   ]
  },
  {
   "cell_type": "code",
   "execution_count": 46,
   "metadata": {},
   "outputs": [
    {
     "data": {
      "text/html": [
       "<div>\n",
       "<style scoped>\n",
       "    .dataframe tbody tr th:only-of-type {\n",
       "        vertical-align: middle;\n",
       "    }\n",
       "\n",
       "    .dataframe tbody tr th {\n",
       "        vertical-align: top;\n",
       "    }\n",
       "\n",
       "    .dataframe thead th {\n",
       "        text-align: right;\n",
       "    }\n",
       "</style>\n",
       "<table border=\"1\" class=\"dataframe\">\n",
       "  <thead>\n",
       "    <tr style=\"text-align: right;\">\n",
       "      <th></th>\n",
       "      <th>count</th>\n",
       "      <th>mean</th>\n",
       "    </tr>\n",
       "    <tr>\n",
       "      <th>movieId</th>\n",
       "      <th></th>\n",
       "      <th></th>\n",
       "    </tr>\n",
       "  </thead>\n",
       "  <tbody>\n",
       "    <tr>\n",
       "      <th>1</th>\n",
       "      <td>76813</td>\n",
       "      <td>3.893508</td>\n",
       "    </tr>\n",
       "    <tr>\n",
       "      <th>2</th>\n",
       "      <td>30209</td>\n",
       "      <td>3.278179</td>\n",
       "    </tr>\n",
       "    <tr>\n",
       "      <th>3</th>\n",
       "      <td>15820</td>\n",
       "      <td>3.171271</td>\n",
       "    </tr>\n",
       "    <tr>\n",
       "      <th>4</th>\n",
       "      <td>3028</td>\n",
       "      <td>2.868395</td>\n",
       "    </tr>\n",
       "    <tr>\n",
       "      <th>5</th>\n",
       "      <td>15801</td>\n",
       "      <td>3.076957</td>\n",
       "    </tr>\n",
       "  </tbody>\n",
       "</table>\n",
       "</div>"
      ],
      "text/plain": [
       "         count      mean\n",
       "movieId                 \n",
       "1        76813  3.893508\n",
       "2        30209  3.278179\n",
       "3        15820  3.171271\n",
       "4         3028  2.868395\n",
       "5        15801  3.076957"
      ]
     },
     "execution_count": 46,
     "metadata": {},
     "output_type": "execute_result"
    }
   ],
   "source": [
    "\"\"\"suppose for movieId 1 , it will group all the ratings with movieId 1.\n",
    " In this case that group has 76813 ratings . It then take those 76813 rating then count them by count aggregate func\n",
    " basically len(group) which is 76813 in this example and mean them by mean aggregate func which is 3.893508\"\"\"\n",
    "\n",
    "movie_stats = ratings.groupby('movieId')['rating'].agg(['count', 'mean'])\n",
    "movie_stats.head()"
   ]
  },
  {
   "cell_type": "code",
   "execution_count": 47,
   "metadata": {},
   "outputs": [
    {
     "name": "stdout",
     "output_type": "stream",
     "text": [
      "Average number of ratings for a given movie: 410.96\n",
      "Average rating for a given movie: 3.01\n"
     ]
    }
   ],
   "source": [
    "C = movie_stats['count'].mean()\n",
    "m = movie_stats['mean'].mean()\n",
    "\n",
    "print(f\"Average number of ratings for a given movie: {C:.2f}\")\n",
    "print(f\"Average rating for a given movie: {m:.2f}\")\n",
    "\n",
    "def bayesian_avg(ratings):\n",
    "    bayesian_avg = (C*m+ratings.sum())/(C+ratings.count())\n",
    "    return bayesian_avg"
   ]
  },
  {
   "cell_type": "code",
   "execution_count": 48,
   "metadata": {},
   "outputs": [
    {
     "data": {
      "text/plain": [
       "3.018635693173405"
      ]
     },
     "execution_count": 48,
     "metadata": {},
     "output_type": "execute_result"
    }
   ],
   "source": [
    "lamerica = pd.Series([5, 5])\n",
    "bayesian_avg(lamerica)"
   ]
  },
  {
   "cell_type": "code",
   "execution_count": 49,
   "metadata": {},
   "outputs": [
    {
     "data": {
      "text/html": [
       "<div>\n",
       "<style scoped>\n",
       "    .dataframe tbody tr th:only-of-type {\n",
       "        vertical-align: middle;\n",
       "    }\n",
       "\n",
       "    .dataframe tbody tr th {\n",
       "        vertical-align: top;\n",
       "    }\n",
       "\n",
       "    .dataframe thead th {\n",
       "        text-align: right;\n",
       "    }\n",
       "</style>\n",
       "<table border=\"1\" class=\"dataframe\">\n",
       "  <thead>\n",
       "    <tr style=\"text-align: right;\">\n",
       "      <th></th>\n",
       "      <th>movieId</th>\n",
       "      <th>rating</th>\n",
       "    </tr>\n",
       "  </thead>\n",
       "  <tbody>\n",
       "    <tr>\n",
       "      <th>0</th>\n",
       "      <td>1</td>\n",
       "      <td>3.888800</td>\n",
       "    </tr>\n",
       "    <tr>\n",
       "      <th>1</th>\n",
       "      <td>2</td>\n",
       "      <td>3.274566</td>\n",
       "    </tr>\n",
       "    <tr>\n",
       "      <th>2</th>\n",
       "      <td>3</td>\n",
       "      <td>3.167162</td>\n",
       "    </tr>\n",
       "    <tr>\n",
       "      <th>3</th>\n",
       "      <td>4</td>\n",
       "      <td>2.885197</td>\n",
       "    </tr>\n",
       "    <tr>\n",
       "      <th>4</th>\n",
       "      <td>5</td>\n",
       "      <td>3.075234</td>\n",
       "    </tr>\n",
       "  </tbody>\n",
       "</table>\n",
       "</div>"
      ],
      "text/plain": [
       "   movieId    rating\n",
       "0        1  3.888800\n",
       "1        2  3.274566\n",
       "2        3  3.167162\n",
       "3        4  2.885197\n",
       "4        5  3.075234"
      ]
     },
     "execution_count": 49,
     "metadata": {},
     "output_type": "execute_result"
    }
   ],
   "source": [
    "bayesian_avg_ratings = ratings.groupby('movieId')['rating'].agg(bayesian_avg).reset_index()\n",
    "bayesian_avg_ratings.head()"
   ]
  },
  {
   "cell_type": "code",
   "execution_count": 50,
   "metadata": {},
   "outputs": [
    {
     "data": {
      "text/html": [
       "<div>\n",
       "<style scoped>\n",
       "    .dataframe tbody tr th:only-of-type {\n",
       "        vertical-align: middle;\n",
       "    }\n",
       "\n",
       "    .dataframe tbody tr th {\n",
       "        vertical-align: top;\n",
       "    }\n",
       "\n",
       "    .dataframe thead th {\n",
       "        text-align: right;\n",
       "    }\n",
       "</style>\n",
       "<table border=\"1\" class=\"dataframe\">\n",
       "  <thead>\n",
       "    <tr style=\"text-align: right;\">\n",
       "      <th></th>\n",
       "      <th>movieId</th>\n",
       "      <th>bayesian_avg</th>\n",
       "    </tr>\n",
       "  </thead>\n",
       "  <tbody>\n",
       "    <tr>\n",
       "      <th>0</th>\n",
       "      <td>1</td>\n",
       "      <td>3.888800</td>\n",
       "    </tr>\n",
       "    <tr>\n",
       "      <th>1</th>\n",
       "      <td>2</td>\n",
       "      <td>3.274566</td>\n",
       "    </tr>\n",
       "    <tr>\n",
       "      <th>2</th>\n",
       "      <td>3</td>\n",
       "      <td>3.167162</td>\n",
       "    </tr>\n",
       "    <tr>\n",
       "      <th>3</th>\n",
       "      <td>4</td>\n",
       "      <td>2.885197</td>\n",
       "    </tr>\n",
       "    <tr>\n",
       "      <th>4</th>\n",
       "      <td>5</td>\n",
       "      <td>3.075234</td>\n",
       "    </tr>\n",
       "  </tbody>\n",
       "</table>\n",
       "</div>"
      ],
      "text/plain": [
       "   movieId  bayesian_avg\n",
       "0        1      3.888800\n",
       "1        2      3.274566\n",
       "2        3      3.167162\n",
       "3        4      2.885197\n",
       "4        5      3.075234"
      ]
     },
     "execution_count": 50,
     "metadata": {},
     "output_type": "execute_result"
    }
   ],
   "source": [
    "bayesian_avg_ratings.columns = ['movieId', 'bayesian_avg']\n",
    "bayesian_avg_ratings.head()"
   ]
  },
  {
   "cell_type": "code",
   "execution_count": 51,
   "metadata": {},
   "outputs": [],
   "source": [
    "movie_stats = movie_stats.merge(bayesian_avg_ratings, on='movieId')"
   ]
  },
  {
   "cell_type": "code",
   "execution_count": 52,
   "metadata": {},
   "outputs": [
    {
     "data": {
      "text/html": [
       "<div>\n",
       "<style scoped>\n",
       "    .dataframe tbody tr th:only-of-type {\n",
       "        vertical-align: middle;\n",
       "    }\n",
       "\n",
       "    .dataframe tbody tr th {\n",
       "        vertical-align: top;\n",
       "    }\n",
       "\n",
       "    .dataframe thead th {\n",
       "        text-align: right;\n",
       "    }\n",
       "</style>\n",
       "<table border=\"1\" class=\"dataframe\">\n",
       "  <thead>\n",
       "    <tr style=\"text-align: right;\">\n",
       "      <th></th>\n",
       "      <th>movieId</th>\n",
       "      <th>count</th>\n",
       "      <th>mean</th>\n",
       "      <th>bayesian_avg</th>\n",
       "    </tr>\n",
       "  </thead>\n",
       "  <tbody>\n",
       "    <tr>\n",
       "      <th>0</th>\n",
       "      <td>1</td>\n",
       "      <td>76813</td>\n",
       "      <td>3.893508</td>\n",
       "      <td>3.888800</td>\n",
       "    </tr>\n",
       "    <tr>\n",
       "      <th>1</th>\n",
       "      <td>2</td>\n",
       "      <td>30209</td>\n",
       "      <td>3.278179</td>\n",
       "      <td>3.274566</td>\n",
       "    </tr>\n",
       "    <tr>\n",
       "      <th>2</th>\n",
       "      <td>3</td>\n",
       "      <td>15820</td>\n",
       "      <td>3.171271</td>\n",
       "      <td>3.167162</td>\n",
       "    </tr>\n",
       "    <tr>\n",
       "      <th>3</th>\n",
       "      <td>4</td>\n",
       "      <td>3028</td>\n",
       "      <td>2.868395</td>\n",
       "      <td>2.885197</td>\n",
       "    </tr>\n",
       "    <tr>\n",
       "      <th>4</th>\n",
       "      <td>5</td>\n",
       "      <td>15801</td>\n",
       "      <td>3.076957</td>\n",
       "      <td>3.075234</td>\n",
       "    </tr>\n",
       "    <tr>\n",
       "      <th>5</th>\n",
       "      <td>6</td>\n",
       "      <td>31850</td>\n",
       "      <td>3.862166</td>\n",
       "      <td>3.851298</td>\n",
       "    </tr>\n",
       "  </tbody>\n",
       "</table>\n",
       "</div>"
      ],
      "text/plain": [
       "   movieId  count      mean  bayesian_avg\n",
       "0        1  76813  3.893508      3.888800\n",
       "1        2  30209  3.278179      3.274566\n",
       "2        3  15820  3.171271      3.167162\n",
       "3        4   3028  2.868395      2.885197\n",
       "4        5  15801  3.076957      3.075234\n",
       "5        6  31850  3.862166      3.851298"
      ]
     },
     "execution_count": 52,
     "metadata": {},
     "output_type": "execute_result"
    }
   ],
   "source": [
    "movie_stats.head(6)"
   ]
  },
  {
   "cell_type": "code",
   "execution_count": 53,
   "metadata": {},
   "outputs": [
    {
     "data": {
      "text/html": [
       "<div>\n",
       "<style scoped>\n",
       "    .dataframe tbody tr th:only-of-type {\n",
       "        vertical-align: middle;\n",
       "    }\n",
       "\n",
       "    .dataframe tbody tr th {\n",
       "        vertical-align: top;\n",
       "    }\n",
       "\n",
       "    .dataframe thead th {\n",
       "        text-align: right;\n",
       "    }\n",
       "</style>\n",
       "<table border=\"1\" class=\"dataframe\">\n",
       "  <thead>\n",
       "    <tr style=\"text-align: right;\">\n",
       "      <th></th>\n",
       "      <th>movieId</th>\n",
       "      <th>count</th>\n",
       "      <th>mean</th>\n",
       "      <th>bayesian_avg</th>\n",
       "      <th>tag</th>\n",
       "    </tr>\n",
       "  </thead>\n",
       "  <tbody>\n",
       "    <tr>\n",
       "      <th>314</th>\n",
       "      <td>318</td>\n",
       "      <td>122296</td>\n",
       "      <td>4.416792</td>\n",
       "      <td>4.412077</td>\n",
       "      <td>overview: Imprisoned in the 1940s for the doub...</td>\n",
       "    </tr>\n",
       "    <tr>\n",
       "      <th>835</th>\n",
       "      <td>858</td>\n",
       "      <td>75004</td>\n",
       "      <td>4.326603</td>\n",
       "      <td>4.319422</td>\n",
       "      <td>overview: Spanning the years 1945 to 1955, a c...</td>\n",
       "    </tr>\n",
       "  </tbody>\n",
       "</table>\n",
       "</div>"
      ],
      "text/plain": [
       "     movieId   count      mean  bayesian_avg  \\\n",
       "314      318  122296  4.416792      4.412077   \n",
       "835      858   75004  4.326603      4.319422   \n",
       "\n",
       "                                                   tag  \n",
       "314  overview: Imprisoned in the 1940s for the doub...  \n",
       "835  overview: Spanning the years 1945 to 1955, a c...  "
      ]
     },
     "execution_count": 53,
     "metadata": {},
     "output_type": "execute_result"
    }
   ],
   "source": [
    "movie_stats = movie_stats.merge(movies,on='movieId')\n",
    "movie_stats.sort_values('bayesian_avg', ascending=False).head(2)"
   ]
  },
  {
   "cell_type": "code",
   "execution_count": 54,
   "metadata": {},
   "outputs": [
    {
     "data": {
      "text/html": [
       "<div>\n",
       "<style scoped>\n",
       "    .dataframe tbody tr th:only-of-type {\n",
       "        vertical-align: middle;\n",
       "    }\n",
       "\n",
       "    .dataframe tbody tr th {\n",
       "        vertical-align: top;\n",
       "    }\n",
       "\n",
       "    .dataframe thead th {\n",
       "        text-align: right;\n",
       "    }\n",
       "</style>\n",
       "<table border=\"1\" class=\"dataframe\">\n",
       "  <thead>\n",
       "    <tr style=\"text-align: right;\">\n",
       "      <th></th>\n",
       "      <th>movieId</th>\n",
       "      <th>count</th>\n",
       "      <th>mean</th>\n",
       "      <th>bayesian_avg</th>\n",
       "      <th>tag</th>\n",
       "    </tr>\n",
       "  </thead>\n",
       "  <tbody>\n",
       "    <tr>\n",
       "      <th>3476</th>\n",
       "      <td>3593</td>\n",
       "      <td>5414</td>\n",
       "      <td>1.591245</td>\n",
       "      <td>1.691270</td>\n",
       "      <td>overview: In the year 3000, man is no match fo...</td>\n",
       "    </tr>\n",
       "    <tr>\n",
       "      <th>4648</th>\n",
       "      <td>4775</td>\n",
       "      <td>788</td>\n",
       "      <td>1.151015</td>\n",
       "      <td>1.787866</td>\n",
       "      <td>overview: A young woman is catapulted into pop...</td>\n",
       "    </tr>\n",
       "    <tr>\n",
       "      <th>11304</th>\n",
       "      <td>50798</td>\n",
       "      <td>1532</td>\n",
       "      <td>1.461488</td>\n",
       "      <td>1.788807</td>\n",
       "      <td>overview: When the Pevensie siblings each foll...</td>\n",
       "    </tr>\n",
       "    <tr>\n",
       "      <th>6440</th>\n",
       "      <td>6587</td>\n",
       "      <td>872</td>\n",
       "      <td>1.214450</td>\n",
       "      <td>1.789284</td>\n",
       "      <td>overview: Gigli is ordered to kidnap the psych...</td>\n",
       "    </tr>\n",
       "    <tr>\n",
       "      <th>9566</th>\n",
       "      <td>31698</td>\n",
       "      <td>847</td>\n",
       "      <td>1.241440</td>\n",
       "      <td>1.818881</td>\n",
       "      <td>overview: Tim Avery, an aspiring cartoonist, f...</td>\n",
       "    </tr>\n",
       "  </tbody>\n",
       "</table>\n",
       "</div>"
      ],
      "text/plain": [
       "       movieId  count      mean  bayesian_avg  \\\n",
       "3476      3593   5414  1.591245      1.691270   \n",
       "4648      4775    788  1.151015      1.787866   \n",
       "11304    50798   1532  1.461488      1.788807   \n",
       "6440      6587    872  1.214450      1.789284   \n",
       "9566     31698    847  1.241440      1.818881   \n",
       "\n",
       "                                                     tag  \n",
       "3476   overview: In the year 3000, man is no match fo...  \n",
       "4648   overview: A young woman is catapulted into pop...  \n",
       "11304  overview: When the Pevensie siblings each foll...  \n",
       "6440   overview: Gigli is ordered to kidnap the psych...  \n",
       "9566   overview: Tim Avery, an aspiring cartoonist, f...  "
      ]
     },
     "execution_count": 54,
     "metadata": {},
     "output_type": "execute_result"
    }
   ],
   "source": [
    "movie_stats.sort_values('bayesian_avg', ascending=True).head()"
   ]
  },
  {
   "cell_type": "code",
   "execution_count": 55,
   "metadata": {},
   "outputs": [],
   "source": [
    "ratings_copy = ratings\n",
    "ratings = ratings.drop(columns=['timestamp'])\n",
    "bayesian_ratings = ratings_copy.merge(movie_stats[[\"movieId\", \"bayesian_avg\"]], on='movieId')\n",
    "bayesian_ratings = bayesian_ratings.drop(columns=['timestamp', 'rating'])\n",
    "bayesian_ratings = bayesian_ratings.sort_values('userId', ascending=True)\n",
    "bayesian_ratings = bayesian_ratings.rename(columns={'bayesian_avg': 'rating'})"
   ]
  },
  {
   "cell_type": "code",
   "execution_count": 56,
   "metadata": {},
   "outputs": [
    {
     "data": {
      "text/html": [
       "<div>\n",
       "<style scoped>\n",
       "    .dataframe tbody tr th:only-of-type {\n",
       "        vertical-align: middle;\n",
       "    }\n",
       "\n",
       "    .dataframe tbody tr th {\n",
       "        vertical-align: top;\n",
       "    }\n",
       "\n",
       "    .dataframe thead th {\n",
       "        text-align: right;\n",
       "    }\n",
       "</style>\n",
       "<table border=\"1\" class=\"dataframe\">\n",
       "  <thead>\n",
       "    <tr style=\"text-align: right;\">\n",
       "      <th></th>\n",
       "      <th>userId</th>\n",
       "      <th>movieId</th>\n",
       "      <th>rating</th>\n",
       "    </tr>\n",
       "  </thead>\n",
       "  <tbody>\n",
       "    <tr>\n",
       "      <th>0</th>\n",
       "      <td>1</td>\n",
       "      <td>1</td>\n",
       "      <td>3.888800</td>\n",
       "    </tr>\n",
       "    <tr>\n",
       "      <th>1201353</th>\n",
       "      <td>1</td>\n",
       "      <td>4246</td>\n",
       "      <td>3.372304</td>\n",
       "    </tr>\n",
       "    <tr>\n",
       "      <th>1220941</th>\n",
       "      <td>1</td>\n",
       "      <td>4306</td>\n",
       "      <td>3.743438</td>\n",
       "    </tr>\n",
       "    <tr>\n",
       "      <th>1279470</th>\n",
       "      <td>1</td>\n",
       "      <td>4699</td>\n",
       "      <td>2.971407</td>\n",
       "    </tr>\n",
       "    <tr>\n",
       "      <th>1280591</th>\n",
       "      <td>1</td>\n",
       "      <td>4886</td>\n",
       "      <td>3.833532</td>\n",
       "    </tr>\n",
       "  </tbody>\n",
       "</table>\n",
       "</div>"
      ],
      "text/plain": [
       "         userId  movieId    rating\n",
       "0             1        1  3.888800\n",
       "1201353       1     4246  3.372304\n",
       "1220941       1     4306  3.743438\n",
       "1279470       1     4699  2.971407\n",
       "1280591       1     4886  3.833532"
      ]
     },
     "execution_count": 56,
     "metadata": {},
     "output_type": "execute_result"
    }
   ],
   "source": [
    "bayesian_ratings.head()"
   ]
  },
  {
   "cell_type": "code",
   "execution_count": 57,
   "metadata": {},
   "outputs": [],
   "source": [
    "def create_X(df):\n",
    "    \n",
    "    M = df['userId'].nunique()\n",
    "    N = df['movieId'].nunique()\n",
    "    print(M)\n",
    "    print(N)\n",
    "\n",
    "    user_mapper = dict(zip(np.unique(df[\"userId\"]), list(range(M))))\n",
    "    movie_mapper = dict(zip(np.unique(df[\"movieId\"]), list(range(N))))\n",
    "    \n",
    "    user_inv_mapper = dict(zip(list(range(M)), np.unique(df[\"userId\"])))\n",
    "    movie_inv_mapper = dict(zip(list(range(N)), np.unique(df[\"movieId\"])))\n",
    "    \n",
    "    user_index = [user_mapper[i] for i in df['userId']]\n",
    "    item_index = [movie_mapper[i] for i in df['movieId']]\n",
    "\n",
    "    X = csr_matrix((df[\"rating\"], (user_index,item_index)), shape=(M,N))\n",
    "    print(X.shape)\n",
    "    \n",
    "    return X, user_mapper, movie_mapper, user_inv_mapper, movie_inv_mapper\n",
    "\n"
   ]
  },
  {
   "cell_type": "code",
   "execution_count": 58,
   "metadata": {},
   "outputs": [
    {
     "name": "stdout",
     "output_type": "stream",
     "text": [
      "330953\n",
      "82129\n",
      "(330953, 82129)\n"
     ]
    }
   ],
   "source": [
    "X, user_mapper, movie_mapper, user_inv_mapper, movie_inv_mapper = create_X(ratings)"
   ]
  },
  {
   "cell_type": "code",
   "execution_count": 59,
   "metadata": {},
   "outputs": [
    {
     "name": "stdout",
     "output_type": "stream",
     "text": [
      "330953\n",
      "82129\n",
      "(330953, 82129)\n"
     ]
    }
   ],
   "source": [
    "X_b, user_mapper_b, movie_mapper_b, user_inv_mapper_b, movie_inv_mapper_b = create_X(bayesian_ratings)"
   ]
  },
  {
   "cell_type": "code",
   "execution_count": 60,
   "metadata": {},
   "outputs": [
    {
     "name": "stdout",
     "output_type": "stream",
     "text": [
      "X.shape (330953, 82129)\n",
      "Q.shape (82129, 300)\n",
      "Q_b.shape (82129, 300)\n"
     ]
    }
   ],
   "source": [
    "print(\"X.shape\",X.shape)\n",
    "\n",
    "\n",
    "svd = TruncatedSVD(n_components=300, n_iter=10)\n",
    "Q = svd.fit_transform(X.T)\n",
    "print(\"Q.shape\",Q.shape)\n",
    "\n",
    "\n",
    "svd = TruncatedSVD(n_components=300, n_iter=10)\n",
    "Q_b = svd.fit_transform(X_b.T)\n",
    "print(\"Q_b.shape\",Q_b.shape)"
   ]
  },
  {
   "cell_type": "code",
   "execution_count": 62,
   "metadata": {},
   "outputs": [],
   "source": [
    "np.save('data/Q.npy', Q)\n",
    "np.save('bayesian_data/Q_b.npy', Q_b)"
   ]
  },
  {
   "cell_type": "code",
   "execution_count": null,
   "metadata": {},
   "outputs": [],
   "source": [
    "X = X.T\n",
    "neighbour_ids = []\n",
    "\n",
    "movie_ind = movie_mapper[1]\n",
    "print(movie_ind)\n",
    "movie_vec = X[movie_ind]\n",
    "print(movie_vec.shape)\n",
    "if isinstance(movie_vec, (np.ndarray)):\n",
    "    movie_vec = movie_vec.reshape(1,-1)\n",
    "    print(movie_vec.shape)\n",
    "kNN = NearestNeighbors(n_neighbors=11, algorithm=\"brute\", metric='cosine')\n",
    "kNN.fit(X)\n",
    "neighbour = kNN.kneighbors(movie_vec, return_distance=False)\n",
    "for i in range(0,5):\n",
    "    n = neighbour.item(i)\n",
    "    print(\"n = \",n)\n",
    "    neighbour_ids.append(movie_inv_mapper[n])\n",
    "    print(\"movie_inv_mapper[n]   \",movie_inv_mapper[n])\n",
    "neighbour_ids.pop(0)\n",
    "print(neighbour_ids)"
   ]
  },
  {
   "cell_type": "code",
   "execution_count": 27,
   "metadata": {},
   "outputs": [
    {
     "name": "stdout",
     "output_type": "stream",
     "text": [
      "n_total 27180838937\n",
      "n_ratings 33752010\n",
      "Matrix sparsity: 0.12%\n",
      "Most active user rated 33077 movies.\n",
      "Least active user rated 1 movies.\n"
     ]
    }
   ],
   "source": [
    "n_total = X.shape[0]*X.shape[1]\n",
    "print(\"n_total\",n_total)\n",
    "n_ratings = X.nnz\n",
    "print(\"n_ratings\",n_ratings)\n",
    "sparsity = n_ratings/n_total\n",
    "print(f\"Matrix sparsity: {round(sparsity*100,2)}%\")\n",
    "n_ratings_per_user = X.getnnz(axis=1)\n",
    "print(f\"Most active user rated {n_ratings_per_user.max()} movies.\")\n",
    "print(f\"Least active user rated {n_ratings_per_user.min()} movies.\")"
   ]
  },
  {
   "cell_type": "code",
   "execution_count": 28,
   "metadata": {},
   "outputs": [
    {
     "name": "stdout",
     "output_type": "stream",
     "text": [
      "n_total 27180838937\n",
      "n_ratings 33752010\n",
      "Matrix sparsity: 0.12%\n",
      "Most active user rated 33077 movies.\n",
      "Least active user rated 1 movies.\n"
     ]
    }
   ],
   "source": [
    "n_total = X_b.shape[0]*X.shape[1]\n",
    "print(\"n_total\",n_total)\n",
    "n_ratings = X_b.nnz\n",
    "print(\"n_ratings\",n_ratings)\n",
    "sparsity = n_ratings/n_total\n",
    "print(f\"Matrix sparsity: {round(sparsity*100,2)}%\")\n",
    "n_ratings_per_user = X.getnnz(axis=1)\n",
    "print(f\"Most active user rated {n_ratings_per_user.max()} movies.\")\n",
    "print(f\"Least active user rated {n_ratings_per_user.min()} movies.\")"
   ]
  },
  {
   "cell_type": "code",
   "execution_count": 29,
   "metadata": {},
   "outputs": [
    {
     "data": {
      "image/png": "[encoded data removed]",
      "text/plain": [
       "<Figure size 1600x400 with 2 Axes>"
      ]
     },
     "metadata": {},
     "output_type": "display_data"
    }
   ],
   "source": [
    "n_ratings_per_movie = X.getnnz(axis=0)\n",
    "\n",
    "plt.figure(figsize=(16,4))\n",
    "plt.subplot(1,2,1)\n",
    "sns.kdeplot(n_ratings_per_user, fill=True)\n",
    "plt.xlim(0)\n",
    "plt.title(\"Number of Ratings Per User\", fontsize=14)\n",
    "plt.xlabel(\"number of ratings per user\")\n",
    "plt.ylabel(\"density\")\n",
    "plt.subplot(1,2,2)\n",
    "sns.kdeplot(n_ratings_per_movie, fill=True)\n",
    "plt.xlim(0)\n",
    "plt.title(\"Number of Ratings Per Movie\", fontsize=14)\n",
    "plt.xlabel(\"number of ratings per movie\")\n",
    "plt.ylabel(\"density\")\n",
    "plt.show()"
   ]
  },
  {
   "cell_type": "code",
   "execution_count": 34,
   "metadata": {},
   "outputs": [
    {
     "name": "stdout",
     "output_type": "stream",
     "text": [
      "(85407, 5000)\n"
     ]
    }
   ],
   "source": []
  },
  {
   "cell_type": "code",
   "execution_count": null,
   "metadata": {},
   "outputs": [],
   "source": []
  },
  {
   "cell_type": "code",
   "execution_count": 36,
   "metadata": {},
   "outputs": [],
   "source": [
    "\n"
   ]
  },
  {
   "cell_type": "code",
   "execution_count": 37,
   "metadata": {},
   "outputs": [],
   "source": [
    "# cv = CountVectorizer(max_features=5000,stop_words='english')\n",
    "# vector = cv.fit_transform(movies['tag']).toarray()\n",
    "# print(vector.shape)\n",
    "# movie_genres = np.array_split(vector, 4)\n",
    "# print(movie_genres[0].shape)\n",
    "# movie_genres1 = movie_genres[0]\n",
    "# movie_genres2 = movie_genres[1]\n",
    "# movie_genres3 = movie_genres[2]\n",
    "# movie_genres4 = movie_genres[3]\n",
    "# if not os.path.exists(\"cosine_similarities/cosine_sim11.npy\"):\n",
    "#     cosine_sim11 = cosine_similarity(movie_genres1, movie_genres1).astype(np.float16)\n",
    "#     np.save('cosine_similarities/cosine_sim11.npy', cosine_sim11)\n",
    "#     del cosine_sim11\n",
    "# if not os.path.exists(\"cosine_similarities/cosine_sim12.npy\"):\n",
    "#     cosine_sim12 = cosine_similarity(movie_genres1, movie_genres2).astype(np.float16)\n",
    "#     np.save('cosine_similarities/cosine_sim12.npy', cosine_sim12)\n",
    "#     del cosine_sim12\n",
    "# if not os.path.exists(\"cosine_similarities/cosine_sim13.npy\"):\n",
    "#     cosine_sim13 = cosine_similarity(movie_genres1, movie_genres3).astype(np.float16)\n",
    "#     np.save('cosine_similarities/cosine_sim13.npy', cosine_sim13)\n",
    "#     del cosine_sim13\n",
    "# if not os.path.exists(\"cosine_similarities/cosine_sim14.npy\"):\n",
    "#     cosine_sim14 = cosine_similarity(movie_genres1, movie_genres4).astype(np.float16)\n",
    "#     np.save('cosine_similarities/cosine_sim14.npy', cosine_sim14)\n",
    "#     del cosine_sim14\n",
    "# if not os.path.exists(\"cosine_similarities/cosine_sim21.npy\"):\n",
    "#     cosine_sim21 = cosine_similarity(movie_genres2, movie_genres1).astype(np.float16)\n",
    "#     np.save('cosine_similarities/cosine_sim21.npy', cosine_sim21)\n",
    "#     del cosine_sim21\n",
    "# if not os.path.exists(\"cosine_similarities/cosine_sim22.npy\"):\n",
    "#     cosine_sim22 = cosine_similarity(movie_genres2, movie_genres2).astype(np.float16)\n",
    "#     np.save('cosine_similarities/cosine_sim22.npy', cosine_sim22)\n",
    "#     del cosine_sim22\n",
    "# if not os.path.exists(\"cosine_similarities/cosine_sim23.npy\"):\n",
    "#     cosine_sim23 = cosine_similarity(movie_genres2, movie_genres3).astype(np.float16)\n",
    "#     np.save('cosine_similarities/cosine_sim23.npy', cosine_sim23)\n",
    "#     del cosine_sim23\n",
    "# if not os.path.exists(\"cosine_similarities/cosine_sim24.npy\"):\n",
    "#     cosine_sim24 = cosine_similarity(movie_genres2, movie_genres4).astype(np.float16)\n",
    "#     np.save('cosine_similarities/cosine_sim24.npy', cosine_sim24)\n",
    "#     del cosine_sim24\n",
    "# if not os.path.exists(\"cosine_similarities/cosine_sim31.npy\"):\n",
    "#     cosine_sim31 = cosine_similarity(movie_genres3, movie_genres1).astype(np.float16)\n",
    "#     np.save('cosine_similarities/cosine_sim31.npy', cosine_sim31)\n",
    "#     del cosine_sim31\n",
    "# if not os.path.exists(\"cosine_similarities/cosine_sim32.npy\"):\n",
    "#     cosine_sim32 = cosine_similarity(movie_genres3, movie_genres2).astype(np.float16)\n",
    "#     np.save('cosine_similarities/cosine_sim32.npy', cosine_sim32)\n",
    "#     del cosine_sim32\n",
    "# if not os.path.exists(\"cosine_similarities/cosine_sim33.npy\"):\n",
    "#     cosine_sim33 = cosine_similarity(movie_genres3, movie_genres3).astype(np.float16)\n",
    "#     np.save('cosine_similarities/cosine_sim33.npy', cosine_sim33)\n",
    "#     del cosine_sim33\n",
    "# if not os.path.exists(\"cosine_similarities/cosine_sim34.npy\"):\n",
    "#     cosine_sim34 = cosine_similarity(movie_genres3, movie_genres4).astype(np.float16)\n",
    "#     np.save('cosine_similarities/cosine_sim34.npy', cosine_sim34)\n",
    "#     del cosine_sim34\n",
    "# if not os.path.exists(\"cosine_similarities/cosine_sim41.npy\"):\n",
    "#     cosine_sim41 = cosine_similarity(movie_genres4, movie_genres1).astype(np.float16)\n",
    "#     np.save('cosine_similarities/cosine_sim41.npy', cosine_sim41)\n",
    "#     del cosine_sim41\n",
    "# if not os.path.exists(\"cosine_similarities/cosine_sim42.npy\"):\n",
    "#     cosine_sim42 = cosine_similarity(movie_genres4, movie_genres2).astype(np.float16)\n",
    "#     np.save('cosine_similarities/cosine_sim42.npy', cosine_sim42)\n",
    "#     del cosine_sim42\n",
    "# if not os.path.exists(\"cosine_similarities/cosine_sim43.npy\"):\n",
    "#     cosine_sim43 = cosine_similarity(movie_genres4, movie_genres3).astype(np.float16)\n",
    "#     np.save('cosine_similarities/cosine_sim43.npy', cosine_sim43)\n",
    "#     del cosine_sim43\n",
    "# if not os.path.exists(\"cosine_similarities/cosine_sim44.npy\"):\n",
    "#     cosine_sim44 = cosine_similarity(movie_genres4, movie_genres4).astype(np.float16)\n",
    "#     np.save('cosine_similarities/cosine_sim44.npy', cosine_sim44)\n",
    "#     del cosine_sim44\n",
    "\n",
    "# if not os.path.exists(\"cosine_similarities/cosine_sim.npy\"):\n",
    "#     cosine_sim = np.block([\n",
    "#         [np.load('cosine_similarities/cosine_sim11.npy'), np.load('cosine_similarities/cosine_sim12.npy'), np.load('cosine_similarities/cosine_sim13.npy'), np.load('cosine_similarities/cosine_sim14.npy')],\n",
    "#         [np.load('cosine_similarities/cosine_sim21.npy'), np.load('cosine_similarities/cosine_sim22.npy'), np.load('cosine_similarities/cosine_sim23.npy'), np.load('cosine_similarities/cosine_sim24.npy')],\n",
    "#         [np.load('cosine_similarities/cosine_sim31.npy'), np.load('cosine_similarities/cosine_sim32.npy'), np.load('cosine_similarities/cosine_sim33.npy'), np.load('cosine_similarities/cosine_sim34.npy')],\n",
    "#         [np.load('cosine_similarities/cosine_sim41.npy'), np.load('cosine_similarities/cosine_sim42.npy'), np.load('cosine_similarities/cosine_sim43.npy'), np.load('cosine_similarities/cosine_sim44.npy')]\n",
    "#     ])\n",
    "#     np.save('cosine_similarities/cosine_sim.npy', cosine_sim)\n",
    "\n"
   ]
  },
  {
   "cell_type": "code",
   "execution_count": 38,
   "metadata": {},
   "outputs": [],
   "source": []
  },
  {
   "cell_type": "code",
   "execution_count": 39,
   "metadata": {},
   "outputs": [],
   "source": [
    "def movie_finder(title):\n",
    "    all_titles = titles['title'].tolist()\n",
    "    closest_match = process.extractOne(title,all_titles)\n",
    "    return closest_match[0]"
   ]
  },
  {
   "cell_type": "code",
   "execution_count": 40,
   "metadata": {},
   "outputs": [
    {
     "data": {
      "text/plain": [
       "'Jumanji (1995)'"
      ]
     },
     "execution_count": 40,
     "metadata": {},
     "output_type": "execute_result"
    }
   ],
   "source": [
    "title = movie_finder('juminji')\n",
    "title"
   ]
  },
  {
   "cell_type": "code",
   "execution_count": 52,
   "metadata": {},
   "outputs": [
    {
     "name": "stdout",
     "output_type": "stream",
     "text": [
      "movieId for Jumanji: 2\n",
      "2\n"
     ]
    }
   ],
   "source": [
    "title_2_id = dict(zip(titles['title'], titles['movieId']))\n",
    "id = title_2_id[title]\n",
    "print(f\"movieId for Jumanji: {id}\")\n"
   ]
  },
  {
   "cell_type": "code",
   "execution_count": 54,
   "metadata": {},
   "outputs": [
    {
     "name": "stdout",
     "output_type": "stream",
     "text": [
      "Movie index for Jumanji: 1\n"
     ]
    }
   ],
   "source": [
    "title_2_idx = dict(zip(titles['title'], list(titles.index)))\n",
    "idx = title_2_idx[title]\n",
    "print(f\"Movie index for Jumanji: {idx}\")"
   ]
  },
  {
   "cell_type": "code",
   "execution_count": 62,
   "metadata": {},
   "outputs": [],
   "source": [
    "def get_content_based_recommendations(title_string, n_recommendations=10):\n",
    "    title = movie_finder(title_string)\n",
    "    print(title)\n",
    "    idx = title_2_idx[title]\n",
    "    sim_scores = list(enumerate(cosine_sim[idx]))\n",
    "    print(idx)\n",
    "    sim_scores = sorted(sim_scores, key=lambda x: x[1], reverse=True)\n",
    "    sim_scores = sim_scores[1:(n_recommendations+1)]\n",
    "    similar_movies = []\n",
    "    for i in sim_scores:\n",
    "        print(i)\n",
    "        similar_movies.append(i[0]) \n",
    "    rec = titles['title'].iloc[similar_movies].tolist()\n",
    "    return rec"
   ]
  },
  {
   "cell_type": "code",
   "execution_count": null,
   "metadata": {},
   "outputs": [],
   "source": [
    "print(get_content_based_recommendations('toy story'))"
   ]
  },
  {
   "cell_type": "code",
   "execution_count": 33,
   "metadata": {},
   "outputs": [
    {
     "name": "stdout",
     "output_type": "stream",
     "text": [
      "X.shape (82129, 330953)\n",
      "Q.shape (330953, 100)\n"
     ]
    },
    {
     "ename": "NameError",
     "evalue": "name 'X_b' is not defined",
     "output_type": "error",
     "traceback": [
      "\u001b[0;31m---------------------------------------------------------------------------\u001b[0m",
      "\u001b[0;31mNameError\u001b[0m                                 Traceback (most recent call last)",
      "Cell \u001b[0;32mIn[33], line 6\u001b[0m\n\u001b[1;32m      4\u001b[0m \u001b[38;5;28mprint\u001b[39m(\u001b[38;5;124m\"\u001b[39m\u001b[38;5;124mQ.shape\u001b[39m\u001b[38;5;124m\"\u001b[39m,Q\u001b[38;5;241m.\u001b[39mshape)\n\u001b[1;32m      5\u001b[0m svd \u001b[38;5;241m=\u001b[39m TruncatedSVD(n_components\u001b[38;5;241m=\u001b[39m\u001b[38;5;241m100\u001b[39m, n_iter\u001b[38;5;241m=\u001b[39m\u001b[38;5;241m50\u001b[39m)\n\u001b[0;32m----> 6\u001b[0m Q_b \u001b[38;5;241m=\u001b[39m svd\u001b[38;5;241m.\u001b[39mfit_transform(\u001b[43mX_b\u001b[49m\u001b[38;5;241m.\u001b[39mT)\n\u001b[1;32m      7\u001b[0m \u001b[38;5;28mprint\u001b[39m(\u001b[38;5;124m\"\u001b[39m\u001b[38;5;124mQ_b.shape\u001b[39m\u001b[38;5;124m\"\u001b[39m,Q_b\u001b[38;5;241m.\u001b[39mshape)\n",
      "\u001b[0;31mNameError\u001b[0m: name 'X_b' is not defined"
     ]
    }
   ],
   "source": [
    "print(\"X.shape\",X.shape)\n",
    "svd = TruncatedSVD(n_components=100, n_iter=50)\n",
    "Q = svd.fit_transform(X.T)\n",
    "print(\"Q.shape\",Q.shape)\n",
    "svd = TruncatedSVD(n_components=100, n_iter=50)\n",
    "Q_b = svd.fit_transform(X_b.T)\n",
    "print(\"Q_b.shape\",Q_b.shape)"
   ]
  },
  {
   "cell_type": "code",
   "execution_count": null,
   "metadata": {},
   "outputs": [],
   "source": [
    "(82129, 330953)\n",
    "\n",
    "(330953, )"
   ]
  },
  {
   "cell_type": "code",
   "execution_count": null,
   "metadata": {},
   "outputs": [],
   "source": [
    "movie_titles = dict(zip(titles['movieId'], titles['title']))\n",
    "def find_similar_movies(movie_id, X, movie_mapper, movie_inv_mapper, k, metric='cosine'):\n",
    "    X = X.T\n",
    "    neighbour_ids = []\n",
    "    \n",
    "    movie_ind = movie_mapper[movie_id]\n",
    "    movie_vec = X[movie_ind]\n",
    "    if isinstance(movie_vec, (np.ndarray)):\n",
    "        movie_vec = movie_vec.reshape(1,-1)\n",
    "    kNN = NearestNeighbors(n_neighbors=k+1, algorithm=\"brute\", metric=metric)\n",
    "    kNN.fit(X)\n",
    "    neighbour = kNN.kneighbors(movie_vec, return_distance=False)\n",
    "    for i in range(0,k):\n",
    "        n = neighbour.item(i)\n",
    "        neighbour_ids.append(movie_inv_mapper[n])\n",
    "    neighbour_ids.pop(0)\n",
    "    return neighbour_ids\n",
    "\n",
    "movie_id = 1\n",
    "\n",
    "similar_movies = find_similar_movies(movie_id, X, movie_mapper, movie_inv_mapper, metric='cosine', k=15)\n",
    "print(\"Movie_id\",similar_movies)\n",
    "movie_title = movie_titles[movie_id]\n",
    "\n",
    "print(f\"Because you watched {movie_title}:\")\n",
    "for i in similar_movies:\n",
    "    print(movie_titles[i])\n",
    "\n",
    "similar_movies = find_similar_movies(movie_id, X_b, movie_mapper_b, movie_inv_mapper_b, metric='cosine', k=15)\n",
    "print(\"Movie_id\",similar_movies)\n",
    "movie_title = movie_titles[movie_id]\n",
    "print(f\"Because you watched {movie_title}:\")\n",
    "for i in similar_movies:\n",
    "    print(movie_titles[i])"
   ]
  },
  {
   "cell_type": "code",
   "execution_count": null,
   "metadata": {},
   "outputs": [],
   "source": [
    "def get_collab_based_recommendations(title_string, n_recommendations=15):\n",
    "    title = movie_finder(title_string)\n",
    "    print(title)\n",
    "    idx = title_2_idx[title]\n",
    "    movie_id = movie_inv_mapper[idx]\n",
    "    similar_movies = find_similar_movies(movie_id, Q.T, movie_mapper, movie_inv_mapper, metric='cosine', k=n_recommendations)\n",
    "    movie_title = movie_titles[movie_id]\n",
    "    rec = []\n",
    "    for i in similar_movies:\n",
    "        rec.append(movie_titles[i])\n",
    "    return rec"
   ]
  },
  {
   "cell_type": "code",
   "execution_count": null,
   "metadata": {},
   "outputs": [],
   "source": [
    "def get_collab_based_recommendation_b(title_string, n_recommendations=15):\n",
    "    title = movie_finder(title_string)\n",
    "    print(title)\n",
    "    idx = title_2_idx[title]\n",
    "    movie_id = movie_inv_mapper[idx]\n",
    "    similar_movies = find_similar_movies(movie_id, Q_b.T, movie_mapper, movie_inv_mapper, metric='cosine', k=n_recommendations)\n",
    "    movie_title = movie_titles[movie_id]\n",
    "    rec = []\n",
    "    for i in similar_movies:\n",
    "        rec.append(movie_titles[i])\n",
    "    return rec"
   ]
  }
 ],
 "metadata": {
  "kernelspec": {
   "display_name": "mov",
   "language": "python",
   "name": "python3"
  },
  "language_info": {
   "codemirror_mode": {
    "name": "ipython",
    "version": 3
   },
   "file_extension": ".py",
   "mimetype": "text/x-python",
   "name": "python",
   "nbconvert_exporter": "python",
   "pygments_lexer": "ipython3",
   "version": "3.8.19"
  }
 },
 "nbformat": 4,
 "nbformat_minor": 2
}
